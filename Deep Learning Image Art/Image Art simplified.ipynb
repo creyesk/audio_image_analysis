{
 "cells": [
  {
   "cell_type": "code",
   "execution_count": 1,
   "metadata": {},
   "outputs": [
    {
     "name": "stderr",
     "output_type": "stream",
     "text": [
      "Using TensorFlow backend.\n"
     ]
    }
   ],
   "source": [
    "from __future__ import print_function\n",
    "\n",
    "#import os\n",
    "#os.environ[\"CUDA_DEVICE_ORDER\"] = \"PCI_BUS_ID\"   # see issue #152\n",
    "#os.environ[\"CUDA_VISIBLE_DEVICES\"] = \"\"\n",
    "\n",
    "import time\n",
    "from PIL import Image\n",
    "import numpy as np\n",
    "\n",
    "from keras import backend\n",
    "from keras.models import Model\n",
    "from keras.applications.vgg16 import VGG16\n",
    "\n",
    "from scipy.optimize import fmin_l_bfgs_b\n",
    "from scipy.misc import imsave\n",
    "\n",
    "import os\n",
    "cwd = os.getcwd()"
   ]
  },
  {
   "cell_type": "code",
   "execution_count": 1,
   "metadata": {},
   "outputs": [],
   "source": [
    "def img_merge(iterations,cnt_layers,sty_layers, cnt_name, sty_name, height,\n",
    "              width, content_weight, style_weight, total_variation_weight = 1.0, sty_rig = 0.1):\n",
    "\n",
    "    content_image_path = cwd + '/content/' + cnt_name + '.jpg'\n",
    "    content_image = Image.open(content_image_path)\n",
    "    content_image = content_image.resize((width, height))\n",
    "\n",
    "    style_image_path = cwd + '/style/' + sty_name + '.jpg'\n",
    "    style_image = Image.open(style_image_path)\n",
    "    style_image = style_image.resize((width, height))\n",
    "    \n",
    "    content_array = np.asarray(content_image, dtype='float32')\n",
    "    content_array = np.expand_dims(content_array, axis=0)\n",
    "    style_array = np.asarray(style_image, dtype='float32')\n",
    "    style_array = np.expand_dims(style_array, axis=0)\n",
    "    \n",
    "    content_array[:, :, :, 0] -= 103.939\n",
    "    content_array[:, :, :, 1] -= 116.779\n",
    "    content_array[:, :, :, 2] -= 123.68\n",
    "    content_array = content_array[:, :, :, ::-1]\n",
    "    style_array[:, :, :, 0] -= 103.939\n",
    "    style_array[:, :, :, 1] -= 116.779\n",
    "    style_array[:, :, :, 2] -= 123.68\n",
    "    style_array = style_array[:, :, :, ::-1]\n",
    "    \n",
    "    content_image = backend.variable(content_array)\n",
    "    style_image = backend.variable(style_array)\n",
    "    combination_image = backend.placeholder((1, height, width, 3))\n",
    "    input_tensor = backend.concatenate([content_image,\n",
    "                                        style_image,\n",
    "                                        combination_image], axis=0)\n",
    "    model = VGG16(input_tensor=input_tensor, weights='imagenet', include_top=False)\n",
    "    layers = [layer.output for layer in model.layers]\n",
    "    \n",
    "    loss = backend.variable(0.)\n",
    "    def content_loss(content, combination):\n",
    "        return backend.sum(backend.square(combination - content))\n",
    "\n",
    "    for i in cnt_layers:\n",
    "        layer_features = layers[i]\n",
    "        content_features = layer_features[0, :, :, :]\n",
    "        combination_features = layer_features[2, :, :, :]\n",
    "        sl = content_loss(content_features, combination_features)\n",
    "        loss += (content_weight / len(cnt_layers)) * sl\n",
    "        \n",
    "    def gram_matrix(x):\n",
    "        features = backend.batch_flatten(backend.permute_dimensions(x, (2, 0, 1)))\n",
    "        gram = backend.dot(features, backend.transpose(features))\n",
    "        return gram\n",
    "\n",
    "    def style_loss(style, combination):\n",
    "        S = gram_matrix(style)\n",
    "        C = gram_matrix(combination)\n",
    "        channels = 3\n",
    "        size = height * width\n",
    "        return backend.sum(backend.square(S - C)) / (4. * (channels ** 2) * (size ** 2)) #+ 0.005*content_loss(style, combination)\n",
    "\n",
    "    for i in sty_layers:\n",
    "        layer_features = layers[i]\n",
    "        style_features = layer_features[1, :, :, :]\n",
    "        combination_features = layer_features[2, :, :, :]\n",
    "        sl = style_loss(style_features, combination_features)  + \\\n",
    "             sty_rig*(content_weight/ len(sty_layers))*content_loss(style_features, combination_features)\n",
    "        loss += (style_weight / len(sty_layers)) * sl\n",
    "        \n",
    "    grads = backend.gradients(loss, combination_image)\n",
    "    \n",
    "    outputs = [loss]\n",
    "    outputs += grads\n",
    "    f_outputs = backend.function([combination_image], outputs)\n",
    "\n",
    "    def eval_loss_and_grads(x):\n",
    "        x = x.reshape((1, height, width, 3))\n",
    "        outs = f_outputs([x])\n",
    "        loss_value = outs[0]\n",
    "        grad_values = outs[1].flatten().astype('float64')\n",
    "        return loss_value, grad_values\n",
    "\n",
    "    class Evaluator(object):\n",
    "\n",
    "        def __init__(self):\n",
    "            self.loss_value = None\n",
    "            self.grads_values = None\n",
    "\n",
    "        def loss(self, x):\n",
    "            assert self.loss_value is None\n",
    "            loss_value, grad_values = eval_loss_and_grads(x)\n",
    "            self.loss_value = loss_value\n",
    "            self.grad_values = grad_values\n",
    "            return self.loss_value\n",
    "\n",
    "        def grads(self, x):\n",
    "            assert self.loss_value is not None\n",
    "            grad_values = np.copy(self.grad_values)\n",
    "            self.loss_value = None\n",
    "            self.grad_values = None\n",
    "            return grad_values\n",
    "\n",
    "    evaluator = Evaluator()\n",
    "    \n",
    "    x = np.random.uniform(0, 255, (1, height, width, 3)) - 128.\n",
    "    X = np.zeros((iterations,height,width,3))\n",
    "    for i in range(iterations):\n",
    "        #print('Start of iteration', i)\n",
    "        start_time = time.time()\n",
    "        x, min_val, info = fmin_l_bfgs_b(evaluator.loss, x.flatten(),\n",
    "                                     fprime=evaluator.grads, maxfun=20)\n",
    "        X[i,...] = x.reshape((height, width, 3))\n",
    "        #print('Current loss value:', min_val)\n",
    "        end_time = time.time()\n",
    "        #print('Iteration %d completed in %ds' % (i, end_time - start_time))\n",
    "        \n",
    "    x = x.reshape((height, width, 3))\n",
    "    x = x[:, :, ::-1]\n",
    "    x[:, :, 0] += 104\n",
    "    x[:, :, 1] += 117\n",
    "    x[:, :, 2] += 124\n",
    "    x = np.clip(x, 0, 255).astype('uint8')\n",
    "    print(cnt_layers, sty_layers)\n",
    "    return(Image.fromarray(x).resize((width, height)))"
   ]
  },
  {
   "cell_type": "code",
   "execution_count": 30,
   "metadata": {},
   "outputs": [
    {
     "ename": "NameError",
     "evalue": "name 'cnt_name' is not defined",
     "output_type": "error",
     "traceback": [
      "\u001b[0;31m---------------------------------------------------------------------------\u001b[0m",
      "\u001b[0;31mNameError\u001b[0m                                 Traceback (most recent call last)",
      "\u001b[0;32m<ipython-input-30-203d2fc4884f>\u001b[0m in \u001b[0;36m<module>\u001b[0;34m()\u001b[0m\n\u001b[0;32m----> 1\u001b[0;31m \u001b[0mimsave\u001b[0m\u001b[0;34m(\u001b[0m\u001b[0;34m'results/'\u001b[0m \u001b[0;34m+\u001b[0m \u001b[0mcnt_name\u001b[0m \u001b[0;34m+\u001b[0m \u001b[0;34m'-'\u001b[0m \u001b[0;34m+\u001b[0m \u001b[0msty_name\u001b[0m \u001b[0;34m+\u001b[0m \u001b[0mstr\u001b[0m\u001b[0;34m(\u001b[0m\u001b[0mcontent_weight\u001b[0m\u001b[0;34m)\u001b[0m \u001b[0;34m+\u001b[0m \u001b[0;34m'.jpg'\u001b[0m\u001b[0;34m,\u001b[0m \u001b[0mfinal_img\u001b[0m\u001b[0;34m)\u001b[0m\u001b[0;34m\u001b[0m\u001b[0m\n\u001b[0m",
      "\u001b[0;31mNameError\u001b[0m: name 'cnt_name' is not defined"
     ]
    }
   ],
   "source": [
    "imsave('results/' + cnt_name + '-' + sty_name + str(content_weight) + '.jpg', final_img)"
   ]
  },
  {
   "cell_type": "code",
   "execution_count": 36,
   "metadata": {},
   "outputs": [
    {
     "ename": "TypeError",
     "evalue": "img_merge() got an unexpected keyword argument 'sty_rig'",
     "output_type": "error",
     "traceback": [
      "\u001b[0;31m---------------------------------------------------------------------------\u001b[0m",
      "\u001b[0;31mTypeError\u001b[0m                                 Traceback (most recent call last)",
      "\u001b[0;32m<ipython-input-36-40a60b913b49>\u001b[0m in \u001b[0;36m<module>\u001b[0;34m()\u001b[0m\n\u001b[1;32m      7\u001b[0m     final_img = img_merge(iterations = 10, cnt_layers=cnt_layers,sty_layers=sty_layers, cnt_name = cnt_name, \n\u001b[1;32m      8\u001b[0m                           \u001b[0msty_name\u001b[0m \u001b[0;34m=\u001b[0m \u001b[0msty_name\u001b[0m\u001b[0;34m,\u001b[0m \u001b[0mheight\u001b[0m \u001b[0;34m=\u001b[0m \u001b[0;36m300\u001b[0m\u001b[0;34m,\u001b[0m \u001b[0mwidth\u001b[0m \u001b[0;34m=\u001b[0m \u001b[0;36m900\u001b[0m\u001b[0;34m,\u001b[0m \u001b[0mcontent_weight\u001b[0m \u001b[0;34m=\u001b[0m \u001b[0;36m0.05\u001b[0m\u001b[0;34m,\u001b[0m \u001b[0mstyle_weight\u001b[0m \u001b[0;34m=\u001b[0m \u001b[0;36m40.0\u001b[0m\u001b[0;34m,\u001b[0m\u001b[0;34m\u001b[0m\u001b[0m\n\u001b[0;32m----> 9\u001b[0;31m                           total_variation_weight = 1.0, sty_rig = 0.1)\n\u001b[0m\u001b[1;32m     10\u001b[0m     \u001b[0mimsave\u001b[0m\u001b[0;34m(\u001b[0m\u001b[0;34m'results/'\u001b[0m \u001b[0;34m+\u001b[0m \u001b[0mcnt_name\u001b[0m \u001b[0;34m+\u001b[0m \u001b[0;34m'-'\u001b[0m \u001b[0;34m+\u001b[0m \u001b[0msty_name\u001b[0m \u001b[0;34m+\u001b[0m \u001b[0mstr\u001b[0m\u001b[0;34m(\u001b[0m\u001b[0mi\u001b[0m\u001b[0;34m)\u001b[0m \u001b[0;34m+\u001b[0m \u001b[0;34m'.jpg'\u001b[0m\u001b[0;34m,\u001b[0m \u001b[0mfinal_img\u001b[0m\u001b[0;34m)\u001b[0m\u001b[0;34m\u001b[0m\u001b[0m\n",
      "\u001b[0;31mTypeError\u001b[0m: img_merge() got an unexpected keyword argument 'sty_rig'"
     ]
    }
   ],
   "source": [
    "import random\n",
    "cnt_name = 'mine'\n",
    "sty_name = 'graf'\n",
    "for i in range(20):\n",
    "    cnt_layers = random.sample(range(18),5)\n",
    "    sty_layers = random.sample(range(18),5)\n",
    "    final_img = img_merge(iterations = 10, cnt_layers=cnt_layers,sty_layers=sty_layers, cnt_name = cnt_name, \n",
    "                          sty_name = sty_name, height = 300, width = 900, content_weight = 0.05, style_weight = 40.0,\n",
    "                          total_variation_weight = 1.0, sty_rig = 0.1)\n",
    "    imsave('results/' + cnt_name + '-' + sty_name + str(i) + '.jpg', final_img)"
   ]
  },
  {
   "cell_type": "code",
   "execution_count": 32,
   "metadata": {},
   "outputs": [
    {
     "name": "stdout",
     "output_type": "stream",
     "text": [
      "[8, 5, 6, 12, 11] [10, 5, 11, 2, 8]\n",
      "[8, 5, 6, 12, 11] [10, 5, 11, 2, 8]\n",
      "[8, 5, 6, 12, 11] [10, 5, 11, 2, 8]\n",
      "[8, 5, 6, 12, 11] [10, 5, 11, 2, 8]\n",
      "[8, 5, 6, 12, 11] [10, 5, 11, 2, 8]\n"
     ]
    }
   ],
   "source": [
    "for i in np.linspace(-1,2,5):\n",
    "    cnt_layers = random.sample(range(18),5)\n",
    "    sty_layers = random.sample(range(18),5)\n",
    "    final_img = img_merge(iterations = 10, cnt_layers=[8, 5, 6, 12, 11],sty_layers=[10, 5, 11, 2, 8], cnt_name = cnt_name, \n",
    "                          sty_name = sty_name, height = 300, width = 900, content_weight = 10**i, style_weight = 40.0,\n",
    "                          total_variation_weight = 1.0)\n",
    "    imsave('results/' + cnt_name + '-' + sty_name + str(i) + 'a.jpg', final_img)"
   ]
  },
  {
   "cell_type": "code",
   "execution_count": 17,
   "metadata": {},
   "outputs": [
    {
     "name": "stdout",
     "output_type": "stream",
     "text": [
      "[8, 5, 6, 12, 11] [10, 5, 11, 2, 8]\n"
     ]
    },
    {
     "name": "stderr",
     "output_type": "stream",
     "text": [
      "IOPub data rate exceeded.\n",
      "The notebook server will temporarily stop sending output\n",
      "to the client in order to avoid crashing it.\n",
      "To change this limit, set the config variable\n",
      "`--NotebookApp.iopub_data_rate_limit`.\n"
     ]
    }
   ],
   "source": [
    "final_img = img_merge(iterations = 10, cnt_layers=[8, 5, 6, 12, 11],sty_layers=[10,5,11,2,8], \n",
    "                      cnt_name = 'mine', sty_name = 'graf', height = 600, width = 1500, content_weight = 0.075, \n",
    "                      style_weight = 40.0, sty_rig = 0.0, total_variation_weight =1)\n",
    "#\n",
    "final_img"
   ]
  },
  {
   "cell_type": "code",
   "execution_count": 18,
   "metadata": {},
   "outputs": [],
   "source": [
    "imsave('results/' + 'mine' + '-' + 'graf' + 'final2.jpg', final_img)"
   ]
  },
  {
   "cell_type": "code",
   "execution_count": null,
   "metadata": {
    "collapsed": true
   },
   "outputs": [],
   "source": []
  }
 ],
 "metadata": {
  "kernelspec": {
   "display_name": "Python 3",
   "language": "python",
   "name": "python3"
  },
  "language_info": {
   "codemirror_mode": {
    "name": "ipython",
    "version": 3
   },
   "file_extension": ".py",
   "mimetype": "text/x-python",
   "name": "python",
   "nbconvert_exporter": "python",
   "pygments_lexer": "ipython3",
   "version": "3.6.4"
  }
 },
 "nbformat": 4,
 "nbformat_minor": 2
}
