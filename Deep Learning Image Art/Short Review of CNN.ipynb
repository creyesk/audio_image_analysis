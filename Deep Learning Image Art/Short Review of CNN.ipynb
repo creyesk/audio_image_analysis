{
 "cells": [
  {
   "cell_type": "markdown",
   "metadata": {},
   "source": [
    "#   Convolutional Neural Networks\n",
    "## Carlos A. Reyes - Quantil\n",
    "### Junio 2017\n",
    "\n",
    "---------------------------------------"
   ]
  },
  {
   "cell_type": "markdown",
   "metadata": {},
   "source": [
    "## Fully Connected Deep Neural Networks\n",
    "![title](fc_layer.png)\n",
    "### Classification Problem:\n",
    "### We want estimate $P(y\\,|\\,X)$ and give a prediction of the class $y = f(X)$.\n",
    "\n",
    "### $X$ is an instance of the features and $y$ its classification.\n",
    "\n",
    "### In the case of deep neural networks we have several layers, each layer is a function that acts on the previous one.\n",
    "\n",
    "### $ y = f(X) = f_l(f_{l-1}( \\ldots (f_2(f_1(X))\\ldots)$, where $l$ is the number of layers.\n",
    "\n",
    "### In Fully Connected Networks each $f_j$ consists of a linear transformation $W$ and an activation function $g$\n",
    "\n",
    "### $f_j = g_j(W_j \\, a_{j-1} + b_{j})$ where $a_{j-1}$ is the output of the previous layer.\n",
    "\n",
    "### $f_j : = f_j(a_{j-1};\\theta_j)$ , where $\\theta_j = (W_j, b_j)$ are the parameters to be trained. \n",
    "\n",
    "![image](neural-net.png)\n",
    "_____________________________"
   ]
  },
  {
   "cell_type": "markdown",
   "metadata": {},
   "source": [
    "##  Convolutional Neural Networks (CNN)\n",
    "### Convolutions for RGB images\n",
    "![image](conv.png)\n",
    "### For an image $I$ and kernel $K$ the convolution is defined as:\n",
    "\n",
    "### \\begin{equation*}\n",
    "S(i,j) = (I \\ast K)(i,j) = \\sum_n \\sum_m \\sum_k I(i+n,j+m,k)K(n,m,k)\n",
    "\\end{equation*}\n",
    "\n",
    "![title](neurons_cnn.png)\n",
    "### Advantages:\n",
    "####   $\\quad$ 1\\. Sparse Representation\n",
    "####   $\\quad$ 2\\. Parameter Sharing\n",
    "####   $\\quad$ 3\\. Invariance\n",
    "![image](perro.png)\n",
    "---------------------------------"
   ]
  },
  {
   "cell_type": "markdown",
   "metadata": {},
   "source": [
    "### Max Pooling:\n",
    "![image](maxpool.png)\n",
    "####   $\\quad$ 1\\. Reducing Dimensions\n",
    "####   $\\quad$ 2\\. Learned Invariance\n",
    "    "
   ]
  },
  {
   "cell_type": "markdown",
   "metadata": {
    "collapsed": true
   },
   "source": [
    "### Deep CNN\n",
    "![title](full_cnn.png)"
   ]
  },
  {
   "cell_type": "markdown",
   "metadata": {},
   "source": [
    "### References\n",
    "\n",
    "1. Deep Learning. Goodfellow et al. \n",
    "\n",
    "2. Understanding Neural Networks Through Deep Visualization. Yosinski http://yosinski.com/deepvis\n",
    "\n",
    "3. Convolutional neural networks for artistic style transfer. Narayanan\n",
    "https://harishnarayanan.org/writing/artistic-style-transfer/\n",
    "\n",
    "4. A Neural Algorithm of Artistic Style. Gatys et al. https://arxiv.org/abs/1508.06576\n",
    "\n",
    "5. How convolutional neural networks see the world. Chollet. https://blog.keras.io/how-convolutional-neural-networks-see-the-world.html"
   ]
  },
  {
   "cell_type": "code",
   "execution_count": null,
   "metadata": {
    "collapsed": true
   },
   "outputs": [],
   "source": []
  }
 ],
 "metadata": {
  "kernelspec": {
   "display_name": "Python 3",
   "language": "python",
   "name": "python3"
  },
  "language_info": {
   "codemirror_mode": {
    "name": "ipython",
    "version": 3
   },
   "file_extension": ".py",
   "mimetype": "text/x-python",
   "name": "python",
   "nbconvert_exporter": "python",
   "pygments_lexer": "ipython3",
   "version": "3.6.1"
  }
 },
 "nbformat": 4,
 "nbformat_minor": 2
}
